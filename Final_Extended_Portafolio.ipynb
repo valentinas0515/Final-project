{
  "nbformat": 4,
  "nbformat_minor": 0,
  "metadata": {
    "colab": {
      "name": "Final Extended Portafolio.ipynb",
      "provenance": []
    },
    "kernelspec": {
      "name": "python3",
      "display_name": "Python 3"
    },
    "language_info": {
      "name": "python"
    }
  },
  "cells": [
    {
      "cell_type": "markdown",
      "metadata": {
        "id": "8Ufd7vQ9Dw0P"
      },
      "source": [
        "#**FINAL ASSIGNMENT - EXTENDED PORTAFOLIO**\n",
        "### *Presented by: Valentina Sánchez Arenas - 20699569*\n",
        "\n",
        "#QUESTION 1\n",
        "##Problem Solving Methodology\n",
        "\n",
        "Within the unit we focus on solving the different activities proposed through the problem-solving methodology. This structure is followed to carry out a clear approach to the requirements of the exercise and solve it in a clear and structured way.\n",
        "\n",
        "The process of problem solving can be broken down into 5 key steps:\n",
        "\n",
        "* State the problem clearly\n",
        "* Describe the input and output information\n",
        "* Work the problem by hand\n",
        "* Develop an algorithm \n",
        "+ Test solution with a variety of data\n",
        "\n",
        "In this excersise we will approach in the first 3 steps\n",
        "\n",
        "##1. State the problem Clearly \n",
        "The first step is to state the problem clearly. It is extremley important to give clear, concise problem statement to avoid any misunderstandings. For this case, the problem statement is as follows:\n",
        "\n",
        "*Design an application that helps tourists visiting Australia by converting American dollars to Australian dollars. The program should allow the user to enter a currency value in USD and then display its value in AUD.*\n",
        "\n",
        "#2. Describe the input and output information\n",
        "\n",
        "The second step is to describe carefully the information that is given to solve the problem and then identify the values to be computed.\n",
        "\n",
        "+ Input - Get the amount of money in American dollars from the user\n",
        "+ Processing - Calculate the conversion between both currencies where:\n",
        "                    *1USD= 1.38AUD*\n",
        "\n",
        "+ Output - Print the result converted in Australian dollars\n",
        "\n",
        "# 3. Work the problem by hand\n",
        "The third step is to work the problem by hand with a calculator using a simple set of data. This is a very important step and should not be skipped. Even for simple problem. For this case:\n",
        "\n",
        "+ name = prompt \"what is your name? \": Mike\n",
        "+ amount = prompt \"How much do you wish to convert?\" : $1100\n",
        "\n",
        "Processing: \n",
        "By hand we computer the conversion like this:\n",
        "\n",
        "    conversion =           $1100 x $1.38\n",
        "    conversion =         amount x rate of exchange\n",
        "\n",
        "Output:\n",
        "\n",
        "\n",
        "```\n",
        "User\t    AmountUSD    AmountAUD\n",
        "Mike\t     $1100         $1518\n",
        "\n",
        "```\n",
        "\n",
        "Next, the folllowing code represents the main purpose of the application design:\n",
        "\n",
        "\n"
      ]
    },
    {
      "cell_type": "code",
      "metadata": {
        "id": "YgTJPHPsM8sC"
      },
      "source": [
        "def get_exchange (amount, conversion) :\n",
        "  '''get the amount exchanged from USD to AUD from the Users inserted amount'''\n",
        "  name = input('What is your name? ')\n",
        "  amount = int(input('How much do you wish to convert? '))\n",
        "  conversion = amount * 1.38\n",
        "  print('Name' + name)\n",
        "  print('AmountUSD', amount)\n",
        "  print('AmountAUD', conversion)\n",
        "  return conversion \n"
      ],
      "execution_count": 11,
      "outputs": []
    },
    {
      "cell_type": "markdown",
      "metadata": {
        "id": "2sHrkfbr_b9E"
      },
      "source": [
        "#QUESTION 2"
      ]
    },
    {
      "cell_type": "code",
      "metadata": {
        "id": "Yzs44YeN_jwu"
      },
      "source": [
        "def get_url(search_term, template): \n",
        "  '''The function get_url generates an URL address using a search is made using the key words'''\n",
        "  ##The following line converts spaces into \"+\" from the 'search terms' considering that a URL cannot contain blank spaces.\n",
        "  search_term = search_term.replace(' ', '+') \n",
        "  ##The next line matches the URL template with the query words and we name the result as the URL\n",
        "  url = template.format(search_term)\n",
        "  ##Then, add page query placeholder\n",
        "  url += '&page={}'\n",
        "  return url"
      ],
      "execution_count": 16,
      "outputs": []
    },
    {
      "cell_type": "markdown",
      "metadata": {
        "id": "J2szK0KaCXSC"
      },
      "source": [
        "The function defined below is a Web Scraping function. The purpose of this function is to generate an URL address based on a query. For example, if the user's query is \"Black Friday\" the function will create a URL address that includes this search. The URL structure is defined by the template format."
      ]
    },
    {
      "cell_type": "markdown",
      "metadata": {
        "id": "uuP0gtctsEBn"
      },
      "source": [
        "#QUESTION 3\n",
        "\n",
        "Next, the errors identified in the code will be addressed one by one. However, at the end of the errors a proposal of the completely corrected code is offered.\n",
        "\n",
        "##Error 1\n",
        "***Syntax Error***. The def() function has a Syntax Error. Missing \":\"\n",
        "```\n",
        "def efficiency(dist, gas) :\n",
        "```\n",
        "##Error 2\n",
        "***Logic Error***. The return value goes at the end of the defining function, it means, once the function has included the algorithm that was being defined, otherwise it is not logical. Also, the return function should return to the created variable, which is MPG in this case, as follows:\n",
        "```\n",
        "return MPG\n",
        "```\n",
        "\n",
        "##Error 3\n",
        "***Syntax Error***. The imput function is not closed correctly. Considering we are writing a sentence that does not belong to a calculation or python function, we must open and close the sentence using '' or \"\". It is also important to be careful in closing the brackets in the input function to not generate another syntax error. The correct lines would be as follows:\n",
        "```\n",
        "km = input (\"How far did your car travel? (In kilometers?)\" ) \n",
        "liters = input (\"How much gas did you use? (In liters)\")\n",
        "```\n",
        "\n",
        "##Error 4\n",
        "***Consistency***. It is important to have consistency when variables are defined. In this case the variable was defined as \"liters\" then was called in another line \"Liters\", which will create an error automatically even with a simple changed capital letter. Another mistake related to consistency was the variable \"km\", which was called in following lines as \"dist traveled\", creating another logic error. *it is also important to mention here that spaces are not allowed when we are naming a variable, which means dist_traveled would be the correct way to name this variable*.\n",
        "\n",
        "##Error 5\n",
        "***Syntax Error***. print function contains a Syntax Error. The variable must be into brackets. As follows\n",
        "```\n",
        "print(MPG)\n",
        "```\n",
        "##Error 6\n",
        "***Parameters***. It is important to mention that as a built-in function (a function created by the user), the parameters stablished must be followed in the function. In this case the function was defined as follows: \n",
        "\n",
        "```\n",
        "def efficiency(dist, gas) \n",
        "```\n",
        "However dist & gas were variables not mentioned in the folowing lines. This is a logic error. That must be fixed.\n",
        "\n",
        "##Error 7\n",
        "***Calculation***. In order to calculate what is asked for, the correct way to develop variable efficiency is as follows:    \n",
        "```\n",
        "MPG = km/liters\n",
        "```\n",
        "This way the code is easier to read, understand, keeps consistency and it is also coherent. \n",
        "\n",
        "##Error 8\n",
        "***Inditation***. The function is not indented correctly. When a function is being defined, the following coding lines after defining must be indented, otherwise, python is not going to be able to read the lines as a part of the defined function. A correct way to indent is as follows (this is the final proposal result with all the errors fixed):\n",
        "\n",
        "\n"
      ]
    },
    {
      "cell_type": "code",
      "metadata": {
        "id": "D7n7giIJ_1i0"
      },
      "source": [
        "def efficiency(km, liters) :\n",
        "    \n",
        "  km = input (\"How far did your car travel? (In kilometers?)\" ) \n",
        "  liters = input (\"How much gas did you use? (In liters)\")\n",
        "  MPG = km/litters\n",
        "  print(MPG)\n",
        "  return MPG"
      ],
      "execution_count": 1,
      "outputs": []
    },
    {
      "cell_type": "markdown",
      "metadata": {
        "id": "w0DueihQAC-0"
      },
      "source": [
        "\n",
        "***The function below has been completely corrected.***\n"
      ]
    },
    {
      "cell_type": "markdown",
      "metadata": {
        "id": "5LRZJSTVLkL7"
      },
      "source": [
        "# QUESTION 4\n",
        "\n",
        "##Problem Statement\n",
        "Write a program from sales.csv and calculates the maximum, minimum and average profit for each country in the Australia and Oceania region. For each country in the Australia and Oceania region the plot their total profit\n",
        "\n",
        "##Input / output\n",
        "+ Input: import sales.csv \n",
        "+ Processing: Calculate the max, min and avg\n",
        "+ Output"
      ]
    },
    {
      "cell_type": "code",
      "metadata": {
        "id": "VYm1Uh_SvEt3"
      },
      "source": [
        "#Get the libraries\n",
        "import pandas as pd\n",
        "import numpy as np"
      ],
      "execution_count": 81,
      "outputs": []
    },
    {
      "cell_type": "code",
      "metadata": {
        "id": "8FYAzNDFr53g"
      },
      "source": [
        "def get_data():\n",
        "  '''This function imports the data from the .csv file and converts it into a pandas dataframe'''\n",
        "  #import the  data \n",
        "  dataRaw = pd.read_csv('/content/sales.csv')\n",
        "  print(dataRaw)\n",
        "  return dataRaw"
      ],
      "execution_count": 96,
      "outputs": []
    },
    {
      "cell_type": "markdown",
      "metadata": {
        "id": "TG4TnPKmqQCL"
      },
      "source": [
        "## Develop the algorithm"
      ]
    },
    {
      "cell_type": "code",
      "metadata": {
        "id": "KUxXZvyCWDKo"
      },
      "source": [
        "def get_regionCalculations() :\n",
        "  '''This function will get the Maximun, Minimun and Average from the Australia & Oceania Region Profits '''\n",
        "  #Create a new dataframe that includes only the relevant columns\n",
        "  data = dataRaw.loc[:, [\"Region\", \"Country\", \"Total Profit\"]]\n",
        "  # Filter the rows based on column value, in this case, column region == \"Australia and Oceania\"\n",
        "  dataRegion= data.loc[data.Region == \"Australia and Oceania\"]\n",
        "  print(dataRegion)\n",
        "  #extract the column profit from where the data will be extracted\n",
        "  column = dataRegion[\"Total Profit\"]\n",
        "  #get max and min value from the column\n",
        "  maxValue = column.max()\n",
        "  minValue = column.min()\n",
        "  #get the average\n",
        "  average = sum(column)/len(column)\n",
        "  print(\" \")\n",
        "  print(\"The Maximun Profit is: \" + str(maxValue))\n",
        "  print(\"The Minimun Profit is: \" + str(minValue ))\n",
        "  print(\"The average profit of the region is: \" + str(average))\n",
        "  return"
      ],
      "execution_count": 93,
      "outputs": []
    },
    {
      "cell_type": "markdown",
      "metadata": {
        "id": "fOj4aHw3qqhP"
      },
      "source": [
        "##Test the data"
      ]
    },
    {
      "cell_type": "code",
      "metadata": {
        "id": "n_4gVWxMknW8"
      },
      "source": [
        "def get_regionPlot() :\n",
        "  '''This function Plots the Profit per country in the Australia & Ocenia Region'''\n",
        "  dataPlot = dataRegion.loc[:, [\"Country\", \"Total Profit\"]]\n",
        "  dataPlot1 = pd.DataFrame(dataPlot, columns= ['Country', 'Total Profit'])\n",
        "  dataPlot1.plot(x ='Country', y= 'Total Profit', kind = 'bar')\n",
        "  plt.show()\n",
        "  return"
      ],
      "execution_count": 94,
      "outputs": []
    },
    {
      "cell_type": "code",
      "metadata": {
        "colab": {
          "base_uri": "https://localhost:8080/",
          "height": 945
        },
        "id": "ISHgTZ1Hlw3J",
        "outputId": "9a0b9df1-42d1-4010-b30b-cdb5a3f82685"
      },
      "source": [
        "get_data()\n",
        "get_regionCalculations()\n",
        "get_regionPlot()"
      ],
      "execution_count": 97,
      "outputs": [
        {
          "output_type": "stream",
          "name": "stdout",
          "text": [
            "                               Region  ... Total Profit\n",
            "0               Australia and Oceania  ...    951410.50\n",
            "1   Central America and the Caribbean  ...    248406.36\n",
            "2                              Europe  ...    224598.75\n",
            "3                  Sub-Saharan Africa  ...     19525.82\n",
            "4                  Sub-Saharan Africa  ...    639077.50\n",
            "..                                ...  ...          ...\n",
            "95                 Sub-Saharan Africa  ...     65214.72\n",
            "96                               Asia  ...     15103.47\n",
            "97                 Sub-Saharan Africa  ...     93748.05\n",
            "98                      North America  ...    144521.02\n",
            "99                 Sub-Saharan Africa  ...    889472.91\n",
            "\n",
            "[100 rows x 14 columns]\n",
            "                   Region                         Country  Total Profit\n",
            "0   Australia and Oceania                          Tuvalu     951410.50\n",
            "5   Australia and Oceania                 Solomon Islands     285087.64\n",
            "19  Australia and Oceania                      East Timor     337937.60\n",
            "23  Australia and Oceania                     New Zealand       5270.67\n",
            "26  Australia and Oceania                        Kiribati      13009.18\n",
            "32  Australia and Oceania                       Australia     369155.00\n",
            "56  Australia and Oceania                            Fiji     727423.20\n",
            "60  Australia and Oceania                       Australia      60418.38\n",
            "76  Australia and Oceania  Federated States of Micronesia     146875.14\n",
            "79  Australia and Oceania                          Samoa     1678540.98\n",
            "91  Australia and Oceania                       Australia     147031.74\n",
            " \n",
            "The Maximun Profit is: 1678540.98\n",
            "The Minimun Profit is: 5270.67\n",
            "The average profit of the region is: 429287.27545454545\n"
          ]
        },
        {
          "output_type": "display_data",
          "data": {
            "image/png": "[encoded data removed]",
            "text/plain": [
              "<Figure size 432x288 with 1 Axes>"
            ]
          },
          "metadata": {
            "needs_background": "light"
          }
        }
      ]
    }
  ]
}